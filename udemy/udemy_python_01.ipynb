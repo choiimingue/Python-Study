{
 "cells": [
  {
   "attachments": {},
   "cell_type": "markdown",
   "metadata": {},
   "source": [
    "# 섹션1 : 1일차 파이썬 변수를 사용한 데이터 관리"
   ]
  },
  {
   "attachments": {},
   "cell_type": "markdown",
   "metadata": {},
   "source": [
    "## 파이썬의 출력 함수\n",
    "`print()`\n",
    "- `print()` 는 파이썬의 출력 함수입니다.\n",
    "- `print()` 는 괄호 내부에 입력한 내용을 출력해줍니다.\n",
    "- `print()` 에서 문자열을 출력하려면 작은 따옴표 혹은 큰 따옴표로 문자열을 감싸주어야 합니다.\n",
    "- 만약 따옴표 자체를 문자열로 인식하게 하고 싶다면, `\\`(이스케이프) 문자를 앞에 붙여주면 됩니다.\n",
    "- 또한 작은 따옴표로 시작했다면 작은 따옴표로 끝을 맺어주어야 합니다. (큰 따옴표도 마찬가지)\n",
    "- 줄바꿈을 해주고 싶다면 `\\n` 을 문자열 끝에 붙여주고, 곧바로 이어서 아랫줄에 들어갈 내용을 작성해주면 됩니다."
   ]
  },
  {
   "cell_type": "code",
   "execution_count": 96,
   "metadata": {},
   "outputs": [
    {
     "name": "stdout",
     "output_type": "stream",
     "text": [
      "Hello 'me'\n"
     ]
    }
   ],
   "source": [
    "print('Hello \\'me\\'')"
   ]
  },
  {
   "cell_type": "code",
   "execution_count": 97,
   "metadata": {},
   "outputs": [
    {
     "name": "stdout",
     "output_type": "stream",
     "text": [
      "Hello\n",
      "me\n"
     ]
    }
   ],
   "source": [
    "print('Hello\\nme')"
   ]
  },
  {
   "attachments": {},
   "cell_type": "markdown",
   "metadata": {},
   "source": [
    "## 파이썬의 입력 함수\n",
    "**`input()`**\n",
    "- `input()` 은 파이썬의 입력 함수입니다.\n",
    "- `print()` 는 괄호 내부에 입력한 내용을 그대로 출력해주지만 `input()` 은 사용자에게 입력 받은 내용을 출력합니다.\n",
    "- 괄호 내부의 내용이 그대로 출력되지 않고, 괄호 내부의 내용은 사용자에게 입력받을 내용에 대한 힌트 혹은 안내의 역할을 합니다.\n",
    "- 실행하게되면, 프롬프트가 활성화되고 내용물을 곧바로 출력하지 않고 입력 받기 위해 대기합니다.\n",
    "- `print()` 와 함께 사용할 수도 있습니다.  "
   ]
  },
  {
   "cell_type": "code",
   "execution_count": 98,
   "metadata": {},
   "outputs": [
    {
     "data": {
      "text/plain": [
       "'먼지'"
      ]
     },
     "execution_count": 98,
     "metadata": {},
     "output_type": "execute_result"
    }
   ],
   "source": [
    "input('이름을 입력해주세요.')"
   ]
  },
  {
   "cell_type": "code",
   "execution_count": 99,
   "metadata": {},
   "outputs": [
    {
     "name": "stdout",
     "output_type": "stream",
     "text": [
      "Hello 먼지\n"
     ]
    }
   ],
   "source": [
    "print('Hello ' + input('이름을 입력해주세요.'))"
   ]
  },
  {
   "cell_type": "code",
   "execution_count": 100,
   "metadata": {},
   "outputs": [
    {
     "name": "stdout",
     "output_type": "stream",
     "text": [
      "Hello 먼지\n"
     ]
    }
   ],
   "source": [
    "hint = input('이름을 입력해주세요.')\n",
    "\n",
    "print('Hello ' + hint)"
   ]
  },
  {
   "attachments": {},
   "cell_type": "markdown",
   "metadata": {},
   "source": [
    "### [대화형 코딩 연습] 입력 함수\n",
    "사용자에게 이름을 입력받고, 이름의 글자수를 숫자로 출력하기"
   ]
  },
  {
   "cell_type": "code",
   "execution_count": 101,
   "metadata": {},
   "outputs": [
    {
     "name": "stdout",
     "output_type": "stream",
     "text": [
      "2\n"
     ]
    }
   ],
   "source": [
    "print(len(input('이름을 입력해주세요.')))"
   ]
  },
  {
   "attachments": {},
   "cell_type": "markdown",
   "metadata": {},
   "source": [
    "## 파이썬 변수\n",
    "사용자에게 입력 받은 데이터를 재활용하기 위해서 변수를 활용할 수 있습니다."
   ]
  },
  {
   "cell_type": "code",
   "execution_count": 102,
   "metadata": {},
   "outputs": [
    {
     "name": "stdout",
     "output_type": "stream",
     "text": [
      "먼지\n",
      "2\n"
     ]
    }
   ],
   "source": [
    "name = input('이름을 입력해주세요.')\n",
    "length = len(name)\n",
    "\n",
    "print(name)\n",
    "print(length)"
   ]
  },
  {
   "attachments": {},
   "cell_type": "markdown",
   "metadata": {},
   "source": [
    "### [대화형 코딩 연습] 변수\n",
    "변수를 컵이라고 생각하면 이해가 쉽습니다.\n",
    "\n",
    "변수라는 컵에 `=` 을 통해 뒤에 오는 내용물을 붓는 것이라고 상상해도 됩니다.\n",
    "\n",
    "`cup <= water`"
   ]
  },
  {
   "cell_type": "code",
   "execution_count": 103,
   "metadata": {},
   "outputs": [
    {
     "name": "stdout",
     "output_type": "stream",
     "text": [
      "5\n",
      "100\n"
     ]
    }
   ],
   "source": [
    "a = input('a: ')\n",
    "b = input('b: ')\n",
    "\n",
    "print(a)\n",
    "print(b)"
   ]
  },
  {
   "cell_type": "code",
   "execution_count": 104,
   "metadata": {},
   "outputs": [
    {
     "name": "stdout",
     "output_type": "stream",
     "text": [
      "a = 5\n",
      "b = 100\n"
     ]
    }
   ],
   "source": [
    "a = input('a: ')\n",
    "b = input('b: ')\n",
    "\n",
    "print('a = ' + a)\n",
    "print('b = ' + b)"
   ]
  },
  {
   "cell_type": "code",
   "execution_count": 105,
   "metadata": {},
   "outputs": [
    {
     "name": "stdout",
     "output_type": "stream",
     "text": [
      "c = 5\n",
      "a = 100\n",
      "b = 5\n"
     ]
    }
   ],
   "source": [
    "c = a\n",
    "a = b\n",
    "b = c\n",
    "\n",
    "print('c = ' + c)\n",
    "print('a = ' + a)\n",
    "print('b = ' + b)"
   ]
  },
  {
   "attachments": {},
   "cell_type": "markdown",
   "metadata": {},
   "source": [
    "### 변수 이름 짓기\n",
    "작성한 코드는 그것이 짧고 길고, 간단하거나 복잡하거나에 상관없이 메모리에 올라가 실행됨과 동시에 제 역할을 다하고 증발합니다.\n",
    "\n",
    "이 코드들을 추후에 우리가 다시 불러낼 수 있도록 해주는 것이 바로 `'변수'`입니다.\n",
    "\n",
    "변수의 이름을 짓는 것은 자유입니다.\n",
    "\n",
    "하지만 변수를 사용하는 이유의 핵심은 방금 설명했듯이 `'재사용 가능성'`입니다.\n",
    "\n",
    "따라서 추후에 변수의 이름만 보고도 해당 변수를 부르면 어떤 코드가 나올지 유추할 수 있는 것이 아무래도 좋을 것입니다.\n",
    "\n",
    "변수의 이름을 지을 때, 주의해야 할 몇 가지 사항을 알아봅시다.\n",
    "\n",
    "**강제성이 있는 규칙(에러 발생)**\n",
    "- 예약어 불가\n",
    "- 띄어쓰기 불가\n",
    "- 숫자로 시작 불가\n",
    "\n",
    "**강제는 아니지만 권장하는 규칙**\n",
    "- 내용을 유추할 수 있는 이름짓기\n",
    "- 띄어쓰기가 필요할 때, `_` 를 활용하기"
   ]
  },
  {
   "attachments": {},
   "cell_type": "markdown",
   "metadata": {},
   "source": [
    "## 1일차 프로젝트 : 밴드명 생성기"
   ]
  },
  {
   "cell_type": "code",
   "execution_count": 106,
   "metadata": {},
   "outputs": [
    {
     "name": "stdout",
     "output_type": "stream",
     "text": [
      "안녕하세요. 당신의 밴드명을 대신 지어드리겠습니다. \n",
      "단 두 가지 질문에만 답해주시면 됩니다.\n",
      "고향 : Seoul\n",
      "반려동물 : Puppy\n",
      "당신의 밴드는 지금부터 \"Seoul Puppy\" 입니다.\n"
     ]
    }
   ],
   "source": [
    "#1. Create a greeting for your program.\n",
    "print('안녕하세요. 당신의 밴드명을 대신 지어드리겠습니다. \\n단 두 가지 질문에만 답해주시면 됩니다.')\n",
    "\n",
    "#2. Ask the user for the city that they grew up in.\n",
    "city = input('고향이 어디인가요?')\n",
    "print('고향 : ' + city)\n",
    "\n",
    "#3. Ask the user for the name of a pet.\n",
    "pet = input('반려동물 혹은 좋아하는 동물을 말씀해주세요.')\n",
    "print('반려동물 : ' + pet)\n",
    "\n",
    "#4. Combine the name of their city and pet and show them their band name.\n",
    "band_name = city + ' ' + pet\n",
    "\n",
    "#5. Make sure the input cursor shows on a new line:\n",
    "print('당신의 밴드는 지금부터 ' + '\"' + band_name + '\"' + ' 입니다.')\n",
    "\n",
    "# Solution: https://replit.com/@appbrewery/band-name-generator-end"
   ]
  }
 ],
 "metadata": {
  "kernelspec": {
   "display_name": "base",
   "language": "python",
   "name": "python3"
  },
  "language_info": {
   "codemirror_mode": {
    "name": "ipython",
    "version": 3
   },
   "file_extension": ".py",
   "mimetype": "text/x-python",
   "name": "python",
   "nbconvert_exporter": "python",
   "pygments_lexer": "ipython3",
   "version": "3.9.16"
  },
  "orig_nbformat": 4
 },
 "nbformat": 4,
 "nbformat_minor": 2
}
