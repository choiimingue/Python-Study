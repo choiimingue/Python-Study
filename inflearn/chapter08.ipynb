{
 "cells": [
  {
   "attachments": {},
   "cell_type": "markdown",
   "metadata": {},
   "source": [
    "## chapter07-01. 파이썬 내장(Built-in) 함수"
   ]
  },
  {
   "attachments": {},
   "cell_type": "markdown",
   "metadata": {},
   "source": [
    "### `abs()`\n",
    "- 절댓값"
   ]
  },
  {
   "cell_type": "code",
   "execution_count": 1,
   "metadata": {},
   "outputs": [
    {
     "data": {
      "text/plain": [
       "3"
      ]
     },
     "execution_count": 1,
     "metadata": {},
     "output_type": "execute_result"
    }
   ],
   "source": [
    "abs(-3)"
   ]
  },
  {
   "attachments": {},
   "cell_type": "markdown",
   "metadata": {},
   "source": [
    "### `all()`, `any()`\n",
    "- Iterable 요소 검사(참, 거짓)"
   ]
  },
  {
   "cell_type": "code",
   "execution_count": 2,
   "metadata": {},
   "outputs": [
    {
     "name": "stdout",
     "output_type": "stream",
     "text": [
      "False\n",
      "True\n"
     ]
    }
   ],
   "source": [
    "# and\n",
    "print(all([1, 2, 0]))\n",
    "\n",
    "# or\n",
    "print(any([1, 2, 0]))"
   ]
  },
  {
   "attachments": {},
   "cell_type": "markdown",
   "metadata": {},
   "source": [
    "### `chr()`, `ord()`\n",
    "- `chr()` : 아스키 - 문자\n",
    "- `ord()` : 문자 - 아스키"
   ]
  },
  {
   "cell_type": "code",
   "execution_count": 3,
   "metadata": {},
   "outputs": [
    {
     "name": "stdout",
     "output_type": "stream",
     "text": [
      "C\n",
      "67\n"
     ]
    }
   ],
   "source": [
    "print(chr(67))\n",
    "print(ord('C'))"
   ]
  },
  {
   "attachments": {},
   "cell_type": "markdown",
   "metadata": {},
   "source": [
    "### `emumerate()`\n",
    "- 인덱스 + Iterable 객체 생성"
   ]
  },
  {
   "cell_type": "code",
   "execution_count": 4,
   "metadata": {},
   "outputs": [
    {
     "name": "stdout",
     "output_type": "stream",
     "text": [
      "0 abc\n",
      "1 bcd\n",
      "2 efg\n"
     ]
    }
   ],
   "source": [
    "for i, name in enumerate(['abc', 'bcd', 'efg']):\n",
    "    print(i, name)"
   ]
  },
  {
   "attachments": {},
   "cell_type": "markdown",
   "metadata": {},
   "source": [
    "### `filter()`\n",
    "- Iterable 객체 요소를 지정한 함수조건에 맞는 값 추출"
   ]
  },
  {
   "cell_type": "code",
   "execution_count": 5,
   "metadata": {},
   "outputs": [
    {
     "name": "stdout",
     "output_type": "stream",
     "text": [
      "[-3, -5, 6]\n",
      "[-3, -5, 6]\n"
     ]
    }
   ],
   "source": [
    "# 함수 응용\n",
    "def conv_pos(x):\n",
    "    return abs(x) > 2\n",
    "\n",
    "print(list(filter(conv_pos, [1, -3, 2, 0, -5, 6])))\n",
    "\n",
    "# lambda 응용\n",
    "print(list(filter(lambda x: abs(x) > 2, [1, -3, 2, 0, -5, 6])))"
   ]
  },
  {
   "attachments": {},
   "cell_type": "markdown",
   "metadata": {},
   "source": [
    "### `id()`\n",
    "- 객체의 주소값(레퍼런스) 반환\n",
    "- id가 다르면, 다른 객체"
   ]
  },
  {
   "cell_type": "code",
   "execution_count": 6,
   "metadata": {},
   "outputs": [
    {
     "name": "stdout",
     "output_type": "stream",
     "text": [
      "4305060208\n",
      "4305060176\n",
      "False\n"
     ]
    }
   ],
   "source": [
    "print(id(int(5)))\n",
    "print(id(4))\n",
    "print(id(int(5)) == id(4))"
   ]
  },
  {
   "attachments": {},
   "cell_type": "markdown",
   "metadata": {},
   "source": [
    "### `len()`\n",
    "- Iterable 한 요소의 길이 반환"
   ]
  },
  {
   "cell_type": "code",
   "execution_count": 7,
   "metadata": {},
   "outputs": [
    {
     "data": {
      "text/plain": [
       "7"
      ]
     },
     "execution_count": 7,
     "metadata": {},
     "output_type": "execute_result"
    }
   ],
   "source": [
    "len('abcdefg')"
   ]
  },
  {
   "attachments": {},
   "cell_type": "markdown",
   "metadata": {},
   "source": [
    "### `max()`, `min()`\n",
    "- 최댓값, 최솟값\n"
   ]
  },
  {
   "cell_type": "code",
   "execution_count": 8,
   "metadata": {},
   "outputs": [
    {
     "name": "stdout",
     "output_type": "stream",
     "text": [
      "3 1\n",
      "y  \n"
     ]
    }
   ],
   "source": [
    "print(max([1, 2, 3]), min([1, 2, 3]))\n",
    "print(max('python study'), min('python study'))"
   ]
  },
  {
   "attachments": {},
   "cell_type": "markdown",
   "metadata": {},
   "source": [
    "### `map()`\n",
    "- Iterable 객체 요소를 지정한 함수 실행 후 출"
   ]
  },
  {
   "cell_type": "code",
   "execution_count": 9,
   "metadata": {},
   "outputs": [
    {
     "name": "stdout",
     "output_type": "stream",
     "text": [
      "[1, 3, 2, 0, 5, 6]\n",
      "[1, 3, 2, 0, 5, 6]\n"
     ]
    }
   ],
   "source": [
    "# 함수 응용\n",
    "def conv_abs(x):\n",
    "    return abs(x)\n",
    "\n",
    "print(list(map(conv_abs, [1, -3, 2, 0, -5, 6])))\n",
    "\n",
    "# lambda 응용\n",
    "print(list(map(lambda x: abs(x), [1, -3, 2, 0, -5, 6])))"
   ]
  },
  {
   "attachments": {},
   "cell_type": "markdown",
   "metadata": {},
   "source": [
    "### `pow()`\n",
    "- 제곱값 반환"
   ]
  },
  {
   "cell_type": "code",
   "execution_count": 10,
   "metadata": {},
   "outputs": [
    {
     "data": {
      "text/plain": [
       "1024"
      ]
     },
     "execution_count": 10,
     "metadata": {},
     "output_type": "execute_result"
    }
   ],
   "source": [
    "pow(2, 10)"
   ]
  },
  {
   "attachments": {},
   "cell_type": "markdown",
   "metadata": {},
   "source": [
    "### `range()`\n",
    "- Iterable 객체 반환"
   ]
  },
  {
   "cell_type": "code",
   "execution_count": 11,
   "metadata": {},
   "outputs": [
    {
     "name": "stdout",
     "output_type": "stream",
     "text": [
      "range(1, 10, 2)\n",
      "[1, 3, 5, 7, 9]\n"
     ]
    }
   ],
   "source": [
    "print(range(1, 10, 2))\n",
    "print(list(range(1, 10, 2)))"
   ]
  },
  {
   "attachments": {},
   "cell_type": "markdown",
   "metadata": {},
   "source": [
    "### `round()`\n",
    "- 반올림"
   ]
  },
  {
   "cell_type": "code",
   "execution_count": 12,
   "metadata": {},
   "outputs": [
    {
     "data": {
      "text/plain": [
       "6.58"
      ]
     },
     "execution_count": 12,
     "metadata": {},
     "output_type": "execute_result"
    }
   ],
   "source": [
    "round(6.5781, 2)"
   ]
  },
  {
   "attachments": {},
   "cell_type": "markdown",
   "metadata": {},
   "source": [
    "### `sorted()`\n",
    "- Iterable 객체 정렬 후 반환"
   ]
  },
  {
   "cell_type": "code",
   "execution_count": 13,
   "metadata": {},
   "outputs": [
    {
     "name": "stdout",
     "output_type": "stream",
     "text": [
      "[1, 2, 3, 4, 6, 7]\n",
      "['h', 'n', 'o', 'p', 't', 'y']\n"
     ]
    }
   ],
   "source": [
    "print(sorted([6, 7, 4, 3, 1, 2]))\n",
    "print(sorted(['p', 'y', 't', 'h', 'o', 'n']))"
   ]
  },
  {
   "attachments": {},
   "cell_type": "markdown",
   "metadata": {},
   "source": [
    "### `sum()`\n",
    "- Iterable 객체의 합 반환"
   ]
  },
  {
   "cell_type": "code",
   "execution_count": 14,
   "metadata": {},
   "outputs": [
    {
     "name": "stdout",
     "output_type": "stream",
     "text": [
      "40\n",
      "5050\n"
     ]
    }
   ],
   "source": [
    "print(sum([6, 7, 8, 9, 10]))\n",
    "print(sum(range(1, 101)))"
   ]
  },
  {
   "attachments": {},
   "cell_type": "markdown",
   "metadata": {},
   "source": [
    "### `type()`\n",
    "- 자료형 확인"
   ]
  },
  {
   "cell_type": "code",
   "execution_count": 15,
   "metadata": {},
   "outputs": [
    {
     "name": "stdout",
     "output_type": "stream",
     "text": [
      "<class 'int'>\n",
      "<class 'dict'>\n",
      "<class 'tuple'>\n",
      "<class 'list'>\n"
     ]
    }
   ],
   "source": [
    "print(type(3))\n",
    "print(type({}))\n",
    "print(type(()))\n",
    "print(type([]))"
   ]
  },
  {
   "attachments": {},
   "cell_type": "markdown",
   "metadata": {},
   "source": [
    "### `zip()`\n",
    "- Iterable 객체의 요소를 묶어서 반환"
   ]
  },
  {
   "cell_type": "code",
   "execution_count": 16,
   "metadata": {},
   "outputs": [
    {
     "name": "stdout",
     "output_type": "stream",
     "text": [
      "[(10, 40), (20, 50), (30, 777)]\n",
      "[(10, 40), (20, 50)]\n",
      "<class 'tuple'>\n"
     ]
    }
   ],
   "source": [
    "print(list(zip([10, 20, 30], [40, 50, 777])))\n",
    "\n",
    "# 짝이 맞는 것들만 묶어서 반환\n",
    "print(list(zip([10, 20, 30], [40, 50])))\n",
    "\n",
    "# 응용\n",
    "print(type(list(zip([10, 20, 30], [40, 50, 777]))[0]))"
   ]
  }
 ],
 "metadata": {
  "kernelspec": {
   "display_name": "base",
   "language": "python",
   "name": "python3"
  },
  "language_info": {
   "codemirror_mode": {
    "name": "ipython",
    "version": 3
   },
   "file_extension": ".py",
   "mimetype": "text/x-python",
   "name": "python",
   "nbconvert_exporter": "python",
   "pygments_lexer": "ipython3",
   "version": "3.10.9"
  },
  "orig_nbformat": 4
 },
 "nbformat": 4,
 "nbformat_minor": 2
}
