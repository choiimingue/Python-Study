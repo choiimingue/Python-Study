{
 "cells": [
  {
   "attachments": {},
   "cell_type": "markdown",
   "metadata": {},
   "source": [
    "## chapter07-01. Exception\n",
    "**예외(Exception) 개념 및 처리**\n",
    "- 예외 종류\n",
    "- 다양한 예외 재연\n",
    "- 예외 처리 기본\n",
    "- 예외 처리 패턴\n",
    "- 예외 처리 실습"
   ]
  },
  {
   "attachments": {},
   "cell_type": "markdown",
   "metadata": {},
   "source": [
    "### 예외 종류\n",
    "SyntaxError, TypeError, NameError, ValueError, KeyError...\n",
    "\n",
    "문법적으로는 예외가 없지만, 코드 실행 프로세스에서 발생하는 예외도 중요(예상과 다른 결과가 나오는 경우)\n",
    "\n",
    "1. 예외는 반드시 처리\n",
    "2. 로그는 반드시 남기기(기록 혹은 증거로 활용)\n",
    "3. 예외는 던져질 수 있음\n",
    "4. 예외 무시"
   ]
  },
  {
   "cell_type": "code",
   "execution_count": 38,
   "metadata": {},
   "outputs": [
    {
     "ename": "SyntaxError",
     "evalue": "EOL while scanning string literal (1495931322.py, line 2)",
     "output_type": "error",
     "traceback": [
      "\u001b[0;36m  Cell \u001b[0;32mIn[38], line 2\u001b[0;36m\u001b[0m\n\u001b[0;31m    print('error)\u001b[0m\n\u001b[0m                 ^\u001b[0m\n\u001b[0;31mSyntaxError\u001b[0m\u001b[0;31m:\u001b[0m EOL while scanning string literal\n"
     ]
    }
   ],
   "source": [
    "# SyntaxError : 문법 오류\n",
    "print('error)\n",
    "print('error'))\n",
    "if True"
   ]
  },
  {
   "cell_type": "code",
   "execution_count": 39,
   "metadata": {},
   "outputs": [
    {
     "ename": "NameError",
     "evalue": "name 'c' is not defined",
     "output_type": "error",
     "traceback": [
      "\u001b[0;31m---------------------------------------------------------------------------\u001b[0m",
      "\u001b[0;31mNameError\u001b[0m                                 Traceback (most recent call last)",
      "Cell \u001b[0;32mIn[39], line 4\u001b[0m\n\u001b[1;32m      2\u001b[0m a \u001b[39m=\u001b[39m \u001b[39m10\u001b[39m\n\u001b[1;32m      3\u001b[0m b \u001b[39m=\u001b[39m \u001b[39m15\u001b[39m\n\u001b[0;32m----> 4\u001b[0m \u001b[39mprint\u001b[39m(c)\n",
      "\u001b[0;31mNameError\u001b[0m: name 'c' is not defined"
     ]
    }
   ],
   "source": [
    "# NameError : 참조 없음\n",
    "a = 10\n",
    "b = 15\n",
    "print(c)"
   ]
  },
  {
   "cell_type": "code",
   "execution_count": 40,
   "metadata": {},
   "outputs": [
    {
     "ename": "ZeroDivisionError",
     "evalue": "division by zero",
     "output_type": "error",
     "traceback": [
      "\u001b[0;31m---------------------------------------------------------------------------\u001b[0m",
      "\u001b[0;31mZeroDivisionError\u001b[0m                         Traceback (most recent call last)",
      "Cell \u001b[0;32mIn[40], line 2\u001b[0m\n\u001b[1;32m      1\u001b[0m \u001b[39m# ZeroDivisionError\u001b[39;00m\n\u001b[0;32m----> 2\u001b[0m \u001b[39mprint\u001b[39m(\u001b[39m100\u001b[39;49m\u001b[39m/\u001b[39;49m\u001b[39m0\u001b[39;49m)\n",
      "\u001b[0;31mZeroDivisionError\u001b[0m: division by zero"
     ]
    }
   ],
   "source": [
    "# ZeroDivisionError\n",
    "print(100/0)"
   ]
  },
  {
   "cell_type": "code",
   "execution_count": 8,
   "metadata": {},
   "outputs": [
    {
     "name": "stdout",
     "output_type": "stream",
     "text": [
      "70\n"
     ]
    },
    {
     "ename": "IndexError",
     "evalue": "list index out of range",
     "output_type": "error",
     "traceback": [
      "\u001b[0;31m---------------------------------------------------------------------------\u001b[0m",
      "\u001b[0;31mIndexError\u001b[0m                                Traceback (most recent call last)",
      "Cell \u001b[0;32mIn[8], line 4\u001b[0m\n\u001b[1;32m      2\u001b[0m x \u001b[39m=\u001b[39m [\u001b[39m50\u001b[39m, \u001b[39m70\u001b[39m, \u001b[39m90\u001b[39m]\n\u001b[1;32m      3\u001b[0m \u001b[39mprint\u001b[39m(x[\u001b[39m1\u001b[39m])\n\u001b[0;32m----> 4\u001b[0m \u001b[39mprint\u001b[39m(x[\u001b[39m4\u001b[39;49m])\n",
      "\u001b[0;31mIndexError\u001b[0m: list index out of range"
     ]
    }
   ],
   "source": [
    "# IndexError 1\n",
    "x = [50, 70, 90]\n",
    "print(x[1])\n",
    "print(x[4])"
   ]
  },
  {
   "cell_type": "code",
   "execution_count": 9,
   "metadata": {},
   "outputs": [
    {
     "name": "stdout",
     "output_type": "stream",
     "text": [
      "90\n",
      "70\n",
      "50\n"
     ]
    },
    {
     "ename": "IndexError",
     "evalue": "pop from empty list",
     "output_type": "error",
     "traceback": [
      "\u001b[0;31m---------------------------------------------------------------------------\u001b[0m",
      "\u001b[0;31mIndexError\u001b[0m                                Traceback (most recent call last)",
      "Cell \u001b[0;32mIn[9], line 6\u001b[0m\n\u001b[1;32m      4\u001b[0m \u001b[39mprint\u001b[39m(x\u001b[39m.\u001b[39mpop())\n\u001b[1;32m      5\u001b[0m \u001b[39mprint\u001b[39m(x\u001b[39m.\u001b[39mpop())\n\u001b[0;32m----> 6\u001b[0m \u001b[39mprint\u001b[39m(x\u001b[39m.\u001b[39;49mpop())\n",
      "\u001b[0;31mIndexError\u001b[0m: pop from empty list"
     ]
    }
   ],
   "source": [
    "# IndexError 2\n",
    "x = [50, 70, 90]\n",
    "print(x.pop())\n",
    "print(x.pop())\n",
    "print(x.pop())\n",
    "print(x.pop())"
   ]
  },
  {
   "cell_type": "code",
   "execution_count": 12,
   "metadata": {},
   "outputs": [
    {
     "ename": "KeyError",
     "evalue": "'hobby'",
     "output_type": "error",
     "traceback": [
      "\u001b[0;31m---------------------------------------------------------------------------\u001b[0m",
      "\u001b[0;31mKeyError\u001b[0m                                  Traceback (most recent call last)",
      "Cell \u001b[0;32mIn[12], line 3\u001b[0m\n\u001b[1;32m      1\u001b[0m \u001b[39m# KeyError\u001b[39;00m\n\u001b[1;32m      2\u001b[0m dic \u001b[39m=\u001b[39m {\u001b[39m'\u001b[39m\u001b[39mname\u001b[39m\u001b[39m'\u001b[39m: \u001b[39m'\u001b[39m\u001b[39mLee\u001b[39m\u001b[39m'\u001b[39m, \u001b[39m'\u001b[39m\u001b[39mAge\u001b[39m\u001b[39m'\u001b[39m: \u001b[39m41\u001b[39m, \u001b[39m'\u001b[39m\u001b[39mCity\u001b[39m\u001b[39m'\u001b[39m: \u001b[39m'\u001b[39m\u001b[39mSeoul\u001b[39m\u001b[39m'\u001b[39m}\n\u001b[0;32m----> 3\u001b[0m \u001b[39mprint\u001b[39m(dic[\u001b[39m'\u001b[39;49m\u001b[39mhobby\u001b[39;49m\u001b[39m'\u001b[39;49m])\n",
      "\u001b[0;31mKeyError\u001b[0m: 'hobby'"
     ]
    }
   ],
   "source": [
    "# KeyError\n",
    "dic = {'name': 'Lee', 'Age': 41, 'City': 'Seoul'}\n",
    "print(dic['hobby'])"
   ]
  },
  {
   "cell_type": "code",
   "execution_count": 13,
   "metadata": {},
   "outputs": [
    {
     "name": "stdout",
     "output_type": "stream",
     "text": [
      "None\n"
     ]
    }
   ],
   "source": [
    "# KeyError\n",
    "# get 메서드는 에러를 발생시키지 않고, None을 출력해주기 때문에 더 안정적임\n",
    "dic = {'name': 'Lee', 'Age': 41, 'City': 'Seoul'}\n",
    "print(dic.get('hobby'))"
   ]
  },
  {
   "attachments": {},
   "cell_type": "markdown",
   "metadata": {},
   "source": [
    "예외없는 것을 가정하고 프로그램을 작성\n",
    "\n",
    "런타임 예외 발생 시 예외 처리 권장(EAFP)\n",
    "\n",
    "우선 빠르게 만들고 배포하여 유저들에게서 확인하자"
   ]
  },
  {
   "cell_type": "code",
   "execution_count": 15,
   "metadata": {},
   "outputs": [
    {
     "ename": "AttributeError",
     "evalue": "module 'time' has no attribute 'time2'",
     "output_type": "error",
     "traceback": [
      "\u001b[0;31m---------------------------------------------------------------------------\u001b[0m",
      "\u001b[0;31mAttributeError\u001b[0m                            Traceback (most recent call last)",
      "Cell \u001b[0;32mIn[15], line 3\u001b[0m\n\u001b[1;32m      1\u001b[0m \u001b[39m# AttributeError : 모듈, 클래스에 있는 잘못된 속성 사용 예외\u001b[39;00m\n\u001b[1;32m      2\u001b[0m \u001b[39mimport\u001b[39;00m \u001b[39mtime\u001b[39;00m\n\u001b[0;32m----> 3\u001b[0m \u001b[39mprint\u001b[39m(time\u001b[39m.\u001b[39;49mtime2())\n",
      "\u001b[0;31mAttributeError\u001b[0m: module 'time' has no attribute 'time2'"
     ]
    }
   ],
   "source": [
    "# AttributeError : 모듈, 클래스에 있는 잘못된 속성 사용 예외\n",
    "import time\n",
    "print(time.time2())"
   ]
  },
  {
   "cell_type": "code",
   "execution_count": 17,
   "metadata": {},
   "outputs": [
    {
     "ename": "ValueError",
     "evalue": "list.remove(x): x not in list",
     "output_type": "error",
     "traceback": [
      "\u001b[0;31m---------------------------------------------------------------------------\u001b[0m",
      "\u001b[0;31mValueError\u001b[0m                                Traceback (most recent call last)",
      "Cell \u001b[0;32mIn[17], line 3\u001b[0m\n\u001b[1;32m      1\u001b[0m \u001b[39m# ValueError : 참조값이 없을 때 발생하는 에러\u001b[39;00m\n\u001b[1;32m      2\u001b[0m x \u001b[39m=\u001b[39m [\u001b[39m10\u001b[39m, \u001b[39m50\u001b[39m, \u001b[39m90\u001b[39m]\n\u001b[0;32m----> 3\u001b[0m x\u001b[39m.\u001b[39;49mremove(\u001b[39m200\u001b[39;49m)\n\u001b[1;32m      4\u001b[0m \u001b[39mprint\u001b[39m(x)\n",
      "\u001b[0;31mValueError\u001b[0m: list.remove(x): x not in list"
     ]
    }
   ],
   "source": [
    "# ValueError : 참조값이 없을 때 발생하는 에러\n",
    "x = [10, 50, 90]\n",
    "x.remove(200)\n",
    "print(x)"
   ]
  },
  {
   "cell_type": "code",
   "execution_count": 18,
   "metadata": {},
   "outputs": [
    {
     "ename": "FileNotFoundError",
     "evalue": "[Errno 2] No such file or directory: 'test.txt'",
     "output_type": "error",
     "traceback": [
      "\u001b[0;31m---------------------------------------------------------------------------\u001b[0m",
      "\u001b[0;31mFileNotFoundError\u001b[0m                         Traceback (most recent call last)",
      "Cell \u001b[0;32mIn[18], line 2\u001b[0m\n\u001b[1;32m      1\u001b[0m \u001b[39m# FileNotFoundError\u001b[39;00m\n\u001b[0;32m----> 2\u001b[0m f \u001b[39m=\u001b[39m \u001b[39mopen\u001b[39;49m(\u001b[39m'\u001b[39;49m\u001b[39mtest.txt\u001b[39;49m\u001b[39m'\u001b[39;49m)\n",
      "File \u001b[0;32m~/opt/anaconda3/lib/python3.9/site-packages/IPython/core/interactiveshell.py:284\u001b[0m, in \u001b[0;36m_modified_open\u001b[0;34m(file, *args, **kwargs)\u001b[0m\n\u001b[1;32m    277\u001b[0m \u001b[39mif\u001b[39;00m file \u001b[39min\u001b[39;00m {\u001b[39m0\u001b[39m, \u001b[39m1\u001b[39m, \u001b[39m2\u001b[39m}:\n\u001b[1;32m    278\u001b[0m     \u001b[39mraise\u001b[39;00m \u001b[39mValueError\u001b[39;00m(\n\u001b[1;32m    279\u001b[0m         \u001b[39mf\u001b[39m\u001b[39m\"\u001b[39m\u001b[39mIPython won\u001b[39m\u001b[39m'\u001b[39m\u001b[39mt let you open fd=\u001b[39m\u001b[39m{\u001b[39;00mfile\u001b[39m}\u001b[39;00m\u001b[39m by default \u001b[39m\u001b[39m\"\u001b[39m\n\u001b[1;32m    280\u001b[0m         \u001b[39m\"\u001b[39m\u001b[39mas it is likely to crash IPython. If you know what you are doing, \u001b[39m\u001b[39m\"\u001b[39m\n\u001b[1;32m    281\u001b[0m         \u001b[39m\"\u001b[39m\u001b[39myou can use builtins\u001b[39m\u001b[39m'\u001b[39m\u001b[39m open.\u001b[39m\u001b[39m\"\u001b[39m\n\u001b[1;32m    282\u001b[0m     )\n\u001b[0;32m--> 284\u001b[0m \u001b[39mreturn\u001b[39;00m io_open(file, \u001b[39m*\u001b[39;49margs, \u001b[39m*\u001b[39;49m\u001b[39m*\u001b[39;49mkwargs)\n",
      "\u001b[0;31mFileNotFoundError\u001b[0m: [Errno 2] No such file or directory: 'test.txt'"
     ]
    }
   ],
   "source": [
    "# FileNotFoundError\n",
    "f = open('test.txt')"
   ]
  },
  {
   "cell_type": "code",
   "execution_count": 20,
   "metadata": {},
   "outputs": [
    {
     "ename": "TypeError",
     "evalue": "can only concatenate list (not \"tuple\") to list",
     "output_type": "error",
     "traceback": [
      "\u001b[0;31m---------------------------------------------------------------------------\u001b[0m",
      "\u001b[0;31mTypeError\u001b[0m                                 Traceback (most recent call last)",
      "Cell \u001b[0;32mIn[20], line 5\u001b[0m\n\u001b[1;32m      3\u001b[0m y \u001b[39m=\u001b[39m (\u001b[39m1\u001b[39m, \u001b[39m2\u001b[39m)\n\u001b[1;32m      4\u001b[0m z \u001b[39m=\u001b[39m \u001b[39m'\u001b[39m\u001b[39mtest\u001b[39m\u001b[39m'\u001b[39m\n\u001b[0;32m----> 5\u001b[0m \u001b[39mprint\u001b[39m(x \u001b[39m+\u001b[39;49m y)\n\u001b[1;32m      6\u001b[0m \u001b[39mprint\u001b[39m(x \u001b[39m+\u001b[39m z)\n\u001b[1;32m      7\u001b[0m \u001b[39mprint\u001b[39m(y \u001b[39m+\u001b[39m z)\n",
      "\u001b[0;31mTypeError\u001b[0m: can only concatenate list (not \"tuple\") to list"
     ]
    }
   ],
   "source": [
    "# TypeError : 자료형에 맞지 않는 연산을 수행할 경우\n",
    "x = [1, 2]\n",
    "y = (1, 2)\n",
    "z = 'test'\n",
    "print(x + y)\n",
    "print(x + z)\n",
    "print(y + z)"
   ]
  },
  {
   "cell_type": "code",
   "execution_count": 21,
   "metadata": {},
   "outputs": [
    {
     "name": "stdout",
     "output_type": "stream",
     "text": [
      "[1, 2, 1, 2]\n",
      "[1, 2, 't', 'e', 's', 't']\n"
     ]
    }
   ],
   "source": [
    "# 형변환을 해주어 연산을 수행할 수 있음\n",
    "print(x + list(y))\n",
    "print(x + list(z))"
   ]
  },
  {
   "attachments": {},
   "cell_type": "markdown",
   "metadata": {},
   "source": [
    "### 예외 처리 기본\n",
    "- try : 에러가 발생할 가능성이 있는 코드 실행\n",
    "- except 에러명 : 여러개 가능\n",
    "- else : try 블록의 에러가 없을 경우 실행\n",
    "- finally : 항상 실행"
   ]
  },
  {
   "cell_type": "code",
   "execution_count": 41,
   "metadata": {},
   "outputs": [],
   "source": [
    "name = ['Kim', 'Lee', 'Park']"
   ]
  },
  {
   "cell_type": "code",
   "execution_count": 43,
   "metadata": {},
   "outputs": [
    {
     "name": "stdout",
     "output_type": "stream",
     "text": [
      "Kim Found it! 1 in name\n",
      "Ok! else.\n"
     ]
    }
   ],
   "source": [
    "# 예제1 - 1\n",
    "try:\n",
    "    z = 'Kim'\n",
    "    x = name.index(z)\n",
    "    print('{} Found it! {} in name'.format(z, x + 1))\n",
    "except ValueError:\n",
    "    print('Not Found it! - Occurred ValueError!')\n",
    "else:\n",
    "    print('Ok! else.')"
   ]
  },
  {
   "cell_type": "code",
   "execution_count": 44,
   "metadata": {},
   "outputs": [
    {
     "name": "stdout",
     "output_type": "stream",
     "text": [
      "Not Found it! - Occurred ValueError!\n"
     ]
    }
   ],
   "source": [
    "# 예제1 - 2\n",
    "try:\n",
    "    z = 'Choi'\n",
    "    x = name.index(z)\n",
    "    print('{} Found it! {} in name'.format(z, x + 1))\n",
    "except ValueError:\n",
    "    print('Not Found it! - Occurred ValueError!')\n",
    "else:\n",
    "    print('Ok! else.')"
   ]
  },
  {
   "cell_type": "code",
   "execution_count": 45,
   "metadata": {},
   "outputs": [
    {
     "name": "stdout",
     "output_type": "stream",
     "text": [
      "Not Found it!\n"
     ]
    }
   ],
   "source": [
    "# 예제2 - 1\n",
    "try:\n",
    "    z = 'Choi'\n",
    "    x = name.index(z)\n",
    "    print('{} Found it! {} in name'.format(z, x + 1))\n",
    "except: # 에러 종류 생략 (모든 에러)\n",
    "    print('Not Found it!')\n",
    "else:\n",
    "    print('Ok! else.')"
   ]
  },
  {
   "cell_type": "code",
   "execution_count": 46,
   "metadata": {},
   "outputs": [
    {
     "name": "stdout",
     "output_type": "stream",
     "text": [
      "Not Found it!\n"
     ]
    }
   ],
   "source": [
    "# 예제2 - 2\n",
    "try:\n",
    "    z = 'Choi'\n",
    "    x = name.index(z)\n",
    "    print('{} Found it! {} in name'.format(z, x + 1))\n",
    "except Exception: # 모든 에러 명시\n",
    "    print('Not Found it!')\n",
    "else:\n",
    "    print('Ok! else.')"
   ]
  },
  {
   "cell_type": "code",
   "execution_count": 47,
   "metadata": {},
   "outputs": [
    {
     "name": "stdout",
     "output_type": "stream",
     "text": [
      "'Choi' is not in list\n",
      "Not Found it!\n"
     ]
    }
   ],
   "source": [
    "# 예제3 - 1\n",
    "try:\n",
    "    z = 'Choi'\n",
    "    x = name.index(z)\n",
    "    print('{} Found it! {} in name'.format(z, x + 1))\n",
    "except Exception as e: # 모든 에러 명시 및 발생한 에러 종류명을 as 를 통해 'e'에 담아줌\n",
    "    print(e) \n",
    "    print('Not Found it!')\n",
    "else:\n",
    "    print('Ok! else.')"
   ]
  },
  {
   "cell_type": "code",
   "execution_count": 48,
   "metadata": {},
   "outputs": [
    {
     "name": "stdout",
     "output_type": "stream",
     "text": [
      "'Choi' is not in list\n",
      "Not Found it!\n",
      "Ok! finally!\n"
     ]
    }
   ],
   "source": [
    "# 예제3 - 2\n",
    "try:\n",
    "    z = 'Choi'\n",
    "    x = name.index(z)\n",
    "    print('{} Found it! {} in name'.format(z, x + 1))\n",
    "except Exception as e: # 모든 에러 명시 및 발생한 에러 종류명을 as 를 통해 'e'에 담아줌\n",
    "    print(e) \n",
    "    print('Not Found it!')\n",
    "else:\n",
    "    print('Ok! else.')\n",
    "finally: # 예외가 발생하든 안하든 무조건 마지막에는 실행해주는 구문\n",
    "    print('Ok! finally!')"
   ]
  },
  {
   "cell_type": "code",
   "execution_count": 49,
   "metadata": {},
   "outputs": [
    {
     "name": "stdout",
     "output_type": "stream",
     "text": [
      "Occurred! Exception!\n"
     ]
    }
   ],
   "source": [
    "# 예제4\n",
    "# 예외 발생 : raise\n",
    "# raise 키워드로 예외 직접 발생\n",
    "# 파이썬 문법 원칙에 입각한 예외는 아니지만, 직접 설계한 프로그램 상에서 예외로 간주할 수 있음\n",
    "\n",
    "try:\n",
    "    a = 'Park'\n",
    "    if a == 'Kim':\n",
    "        print('Ok! Pass!')\n",
    "    else:\n",
    "        raise ValueError\n",
    "except ValueError:\n",
    "    print('Occurred! Exception!')\n",
    "else:\n",
    "    print('Ok! else.')"
   ]
  }
 ],
 "metadata": {
  "kernelspec": {
   "display_name": "base",
   "language": "python",
   "name": "python3"
  },
  "language_info": {
   "codemirror_mode": {
    "name": "ipython",
    "version": 3
   },
   "file_extension": ".py",
   "mimetype": "text/x-python",
   "name": "python",
   "nbconvert_exporter": "python",
   "pygments_lexer": "ipython3",
   "version": "3.9.16"
  },
  "orig_nbformat": 4
 },
 "nbformat": 4,
 "nbformat_minor": 2
}
