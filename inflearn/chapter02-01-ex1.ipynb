{
 "cells": [
  {
   "cell_type": "markdown",
   "id": "4fa5b005",
   "metadata": {},
   "source": [
    "## chapter02-01-ex1\n",
    "- 파이썬 완전 기초\n",
    "- Print 사용법(2023년 추가)\n"
   ]
  },
  {
   "cell_type": "markdown",
   "id": "3ee68288",
   "metadata": {},
   "source": [
    "### 3가지 Print Formatting"
   ]
  },
  {
   "cell_type": "code",
   "execution_count": 3,
   "id": "59ef8d29",
   "metadata": {},
   "outputs": [],
   "source": [
    "x = 50\n",
    "y = 100\n",
    "text = 308276567\n",
    "n = 'Lee'"
   ]
  },
  {
   "cell_type": "code",
   "execution_count": 4,
   "id": "79f82a00",
   "metadata": {},
   "outputs": [
    {
     "name": "stdout",
     "output_type": "stream",
     "text": [
      "n = Lee, s = 308276567, sum = 150\n"
     ]
    }
   ],
   "source": [
    "# 출력1\n",
    "ex1 = 'n = %s, s = %s, sum = %d' % (n, text, (x + y))\n",
    "print(ex1)"
   ]
  },
  {
   "cell_type": "code",
   "execution_count": 5,
   "id": "62033de0",
   "metadata": {},
   "outputs": [
    {
     "name": "stdout",
     "output_type": "stream",
     "text": [
      "n = Lee, s = 308276567, sum = 150\n"
     ]
    }
   ],
   "source": [
    "# 출력2\n",
    "ex2 = 'n = {n}, s = {s}, sum = {sum}'.format(n=n, s=text, sum=x + y)\n",
    "print(ex2)"
   ]
  },
  {
   "cell_type": "code",
   "execution_count": 6,
   "id": "2c406f63",
   "metadata": {},
   "outputs": [
    {
     "name": "stdout",
     "output_type": "stream",
     "text": [
      "n = Lee, s = 308276567, sum = 150\n"
     ]
    }
   ],
   "source": [
    "# 출력3 (f-string)\n",
    "ex3 = f'n = {n}, s = {text}, sum = {x + y}'\n",
    "print(ex3)"
   ]
  },
  {
   "cell_type": "code",
   "execution_count": 7,
   "id": "6d1afc87",
   "metadata": {},
   "outputs": [
    {
     "name": "stdout",
     "output_type": "stream",
     "text": [
      "m : 100,000,000\n"
     ]
    }
   ],
   "source": [
    "# 구분기호\n",
    "m = 100000000\n",
    "print(f'm : {m:,}')"
   ]
  },
  {
   "cell_type": "code",
   "execution_count": 8,
   "id": "b8096e1e",
   "metadata": {},
   "outputs": [
    {
     "name": "stdout",
     "output_type": "stream",
     "text": [
      "t :         20\n",
      "t left : 20        \n",
      "t center :     20    \n",
      "t right :         20\n"
     ]
    }
   ],
   "source": [
    "# f-string 정렬\n",
    "t = 20\n",
    "print(f't : {t:10}')\n",
    "print(f't left : {t:<10}')\n",
    "print(f't center : {t:^10}')\n",
    "print(f't right : {t:>10}')"
   ]
  },
  {
   "cell_type": "code",
   "execution_count": 9,
   "id": "eed2bf9b",
   "metadata": {},
   "outputs": [
    {
     "name": "stdout",
     "output_type": "stream",
     "text": [
      "t center : ----20----\n",
      "t center : ****20****\n",
      "t center : ####20####\n",
      "t left : 20########\n",
      "t right : ########20\n"
     ]
    }
   ],
   "source": [
    "print(f't center : {t:-^10}')\n",
    "print(f't center : {t:*^10}')\n",
    "print(f't center : {t:#^10}')\n",
    "print(f't left : {t:#<10}')\n",
    "print(f't right : {t:#>10}')"
   ]
  }
 ],
 "metadata": {
  "kernelspec": {
   "display_name": "Python 3 (ipykernel)",
   "language": "python",
   "name": "python3"
  },
  "language_info": {
   "codemirror_mode": {
    "name": "ipython",
    "version": 3
   },
   "file_extension": ".py",
   "mimetype": "text/x-python",
   "name": "python",
   "nbconvert_exporter": "python",
   "pygments_lexer": "ipython3",
   "version": "3.9.16"
  },
  "toc": {
   "base_numbering": 1,
   "nav_menu": {},
   "number_sections": true,
   "sideBar": true,
   "skip_h1_title": false,
   "title_cell": "Table of Contents",
   "title_sidebar": "Contents",
   "toc_cell": false,
   "toc_position": {},
   "toc_section_display": true,
   "toc_window_display": false
  },
  "varInspector": {
   "cols": {
    "lenName": 16,
    "lenType": 16,
    "lenVar": 40
   },
   "kernels_config": {
    "python": {
     "delete_cmd_postfix": "",
     "delete_cmd_prefix": "del ",
     "library": "var_list.py",
     "varRefreshCmd": "print(var_dic_list())"
    },
    "r": {
     "delete_cmd_postfix": ") ",
     "delete_cmd_prefix": "rm(",
     "library": "var_list.r",
     "varRefreshCmd": "cat(var_dic_list()) "
    }
   },
   "types_to_exclude": [
    "module",
    "function",
    "builtin_function_or_method",
    "instance",
    "_Feature"
   ],
   "window_display": false
  }
 },
 "nbformat": 4,
 "nbformat_minor": 5
}
