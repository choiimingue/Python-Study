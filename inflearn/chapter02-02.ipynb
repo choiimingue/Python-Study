{
 "cells": [
  {
   "cell_type": "markdown",
   "id": "e8d8b4ea",
   "metadata": {},
   "source": [
    "## chapter02-02\n",
    "- 파이썬 완전 기초\n",
    "- 파이썬 변수\n",
    "\n",
    "**다양한 변수 선언법**\n",
    "- 변수 할당 설명\n",
    "- Object Identity(ID)\n",
    "- 변수 네이밍 규칙\n",
    "- 예약어"
   ]
  },
  {
   "cell_type": "markdown",
   "id": "455fe735",
   "metadata": {},
   "source": [
    "### 기본 선언"
   ]
  },
  {
   "cell_type": "code",
   "execution_count": 29,
   "id": "ef8cc689",
   "metadata": {},
   "outputs": [
    {
     "name": "stdout",
     "output_type": "stream",
     "text": [
      "700\n",
      "<class 'int'>\n"
     ]
    }
   ],
   "source": [
    "# 선언\n",
    "n = 700\n",
    "\n",
    "# 출력\n",
    "print(n)\n",
    "print(type(n))"
   ]
  },
  {
   "cell_type": "markdown",
   "id": "f3ec17a3",
   "metadata": {},
   "source": [
    "기본적으로 변수를 선언한다는 것은 값을 메모리에 올리는 것이다.\n",
    "\n",
    "사용할 값을 변수라는 주소에 할당하고, 그 값을 찾거나 사용할 때 변수를 통해 불러올 수 있도록 하는 것이다."
   ]
  },
  {
   "cell_type": "markdown",
   "id": "56458512",
   "metadata": {},
   "source": [
    "### 동시 선언"
   ]
  },
  {
   "cell_type": "code",
   "execution_count": 39,
   "id": "8d8c062c",
   "metadata": {},
   "outputs": [
    {
     "name": "stdout",
     "output_type": "stream",
     "text": [
      "700 700 700\n"
     ]
    }
   ],
   "source": [
    "# 동시 선언\n",
    "x = y = z = 700\n",
    "\n",
    "print(x, y, z)"
   ]
  },
  {
   "cell_type": "markdown",
   "id": "a8277e5b",
   "metadata": {},
   "source": [
    "여러 변수에 같은 값을 담고자 할 때, 한 번에 동시 선언을 할 수도 있다."
   ]
  },
  {
   "cell_type": "markdown",
   "id": "ef7cbb5b",
   "metadata": {},
   "source": [
    "### 재선언"
   ]
  },
  {
   "cell_type": "code",
   "execution_count": 40,
   "id": "2492b4ec",
   "metadata": {},
   "outputs": [
    {
     "name": "stdout",
     "output_type": "stream",
     "text": [
      "Change Value\n",
      "<class 'str'>\n"
     ]
    }
   ],
   "source": [
    "# 선언\n",
    "var = 75\n",
    "\n",
    "# 재선언\n",
    "var = 'Change Value'\n",
    "\n",
    "# 출력\n",
    "print(var)\n",
    "print(type(var))"
   ]
  },
  {
   "cell_type": "markdown",
   "id": "6a17b5dd",
   "metadata": {},
   "source": [
    "한 변수에 순차적으로 다른 값을 담아 선언하게 되면, 최근에 할당한 값이 변수에 담긴다.\n",
    "\n",
    "당연히 type 또한 최근에 담긴 값에 의해 결정된다."
   ]
  },
  {
   "cell_type": "markdown",
   "id": "ffd185b6",
   "metadata": {},
   "source": [
    "### Object References\n",
    "**변수에 값이 할당되고 사용되는 매커니즘**\n",
    "1. 타입에 맞는 오브젝트를 생성\n",
    "2. 값 생성\n",
    "3. 연산 혹은 콘솔에 출력"
   ]
  },
  {
   "cell_type": "code",
   "execution_count": 41,
   "id": "55a28009",
   "metadata": {},
   "outputs": [
    {
     "name": "stdout",
     "output_type": "stream",
     "text": [
      "300\n",
      "300\n"
     ]
    }
   ],
   "source": [
    "# 예1.\n",
    "print(300)\n",
    "print(int(300))"
   ]
  },
  {
   "cell_type": "markdown",
   "id": "a2a869f4",
   "metadata": {},
   "source": [
    "위의 `print(300)` 은 아래의 `int()`의 과정이 내부적으로 자동실행되어 값이 출력되는 것이다."
   ]
  },
  {
   "cell_type": "code",
   "execution_count": 42,
   "id": "3848f873",
   "metadata": {},
   "outputs": [
    {
     "name": "stdout",
     "output_type": "stream",
     "text": [
      "777 <class 'int'>\n",
      "777 777\n",
      "<class 'int'> <class 'int'>\n",
      "400 777\n",
      "<class 'int'> <class 'int'>\n"
     ]
    }
   ],
   "source": [
    "# 예2.\n",
    "n = 777\n",
    "\n",
    "print(n, type(n))\n",
    "\n",
    "# m -> 777 <- n\n",
    "m = n\n",
    "\n",
    "print(m, n)\n",
    "print(type(m), type(n))\n",
    "\n",
    "# 재할당\n",
    "m = 400\n",
    "\n",
    "print(m, n)\n",
    "print(type(m), type(n))"
   ]
  },
  {
   "cell_type": "markdown",
   "id": "49c9c4d3",
   "metadata": {},
   "source": [
    "값을 담은 변수를 또 다른 변수에 할당해주면, 서로 같은 값과 type을 공유한다.\n",
    "\n",
    "같은 값을 담고있던 변수에 새로운 값을 담게되면, 당연히 최근에 담긴 값이 지정되고 서로 다른 값이 담긴다.\n",
    "\n",
    "어떠한 값을 print문으로 출력할 때에는 내부적으로 타입에 맞는 오브젝트를 생성하고,\n",
    "\n",
    "type을 설정해주는 class가 작용하고, 출력(사용)되는 과정이 내부적으로 진행된다."
   ]
  },
  {
   "cell_type": "markdown",
   "id": "02a31ab6",
   "metadata": {},
   "source": [
    "### id(identity) 확인\n",
    "- 객체의 고유값 확인"
   ]
  },
  {
   "cell_type": "code",
   "execution_count": 24,
   "id": "cb46fe24",
   "metadata": {},
   "outputs": [
    {
     "name": "stdout",
     "output_type": "stream",
     "text": [
      "140531336811024\n",
      "140531336813360\n",
      "False\n"
     ]
    }
   ],
   "source": [
    "# id(identity) 확인\n",
    "m = 800\n",
    "n = 655\n",
    "\n",
    "print(id(m))\n",
    "print(id(n))\n",
    "print(id(m) == id(n))"
   ]
  },
  {
   "cell_type": "markdown",
   "id": "8e0b948e",
   "metadata": {},
   "source": [
    "다른 값을 담아서 선언한 변수는 서로 다른 고유값(id)를 갖게 된다.\n",
    "\n",
    "당연히 값도 다르고, id도 다른 상태가 되는 것이다."
   ]
  },
  {
   "cell_type": "code",
   "execution_count": 43,
   "id": "378a207e",
   "metadata": {},
   "outputs": [
    {
     "name": "stdout",
     "output_type": "stream",
     "text": [
      "140531338449680\n",
      "140531338450608\n",
      "False\n"
     ]
    }
   ],
   "source": [
    "# 같은 값 재할당\n",
    "m = 800\n",
    "n = 800\n",
    "\n",
    "print(id(m))\n",
    "print(id(n))\n",
    "print(id(m) == id(n))"
   ]
  },
  {
   "cell_type": "markdown",
   "id": "80387a50",
   "metadata": {},
   "source": [
    "서로 같은 값을 담은 변수는 같은 고유값(id)를 공유하게 된다.\n",
    "\n",
    "변수만 다르고, 값과 id는 같은 상태에 놓이는 것이다.\n",
    "\n",
    "이런 현상은 파이썬의 한계와 철학 등의 결과라고 생각된다.\n",
    "\n",
    "기본적으로 파이썬은 인터프리터 언어로 입력을 동시통역하여 기계가 알아들을 수 있도록 해주는 방식으로 작동한다. \n",
    "\n",
    "장점으로는 사람이 직관적이고 간결하게 코드를 작성할 수 있는 환경이라는 점이 있지만 동시에 일일이 지정해주는 것보다 속도가 느리다는 단점도 있다.\n",
    "\n",
    "따라서, 어차피 같은 값을 사용할 것이라면 불필요하게 여러 고유값을 주는 것이 아닌 공유하는 방식을 채택한 것이라고 볼 수 있다.\n",
    "\n",
    "메모리 효율성, 생산성, 속도의 측면을 고려한 결과가 같은 값을 가진 다른 변수에게 같은 id를 부여하는 것이다.\n",
    "\n",
    "단, 주피터 노트북에서는 id값 또한 다르게 할당되는데 이는 더 알아볼 필요가 있을 것이다.\n",
    "\n",
    "참고 : [왕초보를 위한 Python - 인터프리터와 컴파일러][1]\n",
    "\n",
    "[1]:https://wikidocs.net/132948"
   ]
  },
  {
   "cell_type": "markdown",
   "id": "a4fc6c55",
   "metadata": {},
   "source": [
    "### 다양한 변수 선언"
   ]
  },
  {
   "cell_type": "code",
   "execution_count": null,
   "id": "c3e814f3",
   "metadata": {},
   "outputs": [],
   "source": [
    "# 변수 선언\n",
    "student1\n",
    "student2\n",
    "# 변수를 선언할 때에 이런식으로 직관적으로 선언하면, 협업시의 효율성이 좋아진다.\n",
    "# 코드 재활용과 가독성\n",
    "# 그러므로 변수의 선언은 정말 중요하다."
   ]
  },
  {
   "cell_type": "markdown",
   "id": "5cef7de1",
   "metadata": {},
   "source": [
    "변수를 선언할 때, 위와 같이 직관적으로 선언하면 협업 시 효율성이 좋아진다.\n",
    "\n",
    "코드 재활용과 가독성의 측면에서 변수의 선언은 정말 중요하다."
   ]
  },
  {
   "cell_type": "markdown",
   "id": "8111d068",
   "metadata": {},
   "source": [
    "**다양한 변수 선언 방식**\n",
    "- **Camel Case** : **n**umberOfCollegeGraduates -> Method\n",
    "- **Pascal Case** : **N**umberOfCollegeGraduates -> Class\n",
    "- **Snake Case** : number_of_college_graduates -> 일반적인 변수 선언(가장 추천)\n",
    "\n",
    "Pascal Case는 변수 선언 시 추천하지 않는 방식이며, 위의 선언법은 강제된 것이 아닌 권장 사항이다."
   ]
  },
  {
   "cell_type": "code",
   "execution_count": 44,
   "id": "31e646dd",
   "metadata": {},
   "outputs": [],
   "source": [
    "# Camel Case\n",
    "studentGrade = 3\n",
    "\n",
    "# Snake Case\n",
    "student_grade = 3"
   ]
  },
  {
   "cell_type": "code",
   "execution_count": 26,
   "id": "9720e433",
   "metadata": {},
   "outputs": [],
   "source": [
    "# 허용하는 변수 선언법\n",
    "age = 1\n",
    "Age = 2\n",
    "aGe = 3\n",
    "AGE = 4\n",
    "a_g_e = 5\n",
    "_age = 6\n",
    "age_ = 7\n",
    "_AGE_ = 8"
   ]
  },
  {
   "cell_type": "markdown",
   "id": "3e20f553",
   "metadata": {},
   "source": [
    "**허용하지 않는 변수 선언**\n",
    "- 숫자로 시작하거나, `_`, `$` 를 제외한 특수문자로 시작하는 것은 허용하지 않음\n",
    "- 파이썬 내부적으로 사용하는 예약어(Reserved Words)도 허용하지 않음"
   ]
  },
  {
   "cell_type": "code",
   "execution_count": 45,
   "id": "4529dccb",
   "metadata": {},
   "outputs": [
    {
     "data": {
      "text/plain": [
       "'\\nFalse def if raise\\nNone del import return\\nTrue elif in try\\nand else is while\\nas escept lambda with\\nassert finally nonlocal yield\\nbreak for not\\nclass from or\\ncontinue global pass\\n'"
      ]
     },
     "execution_count": 45,
     "metadata": {},
     "output_type": "execute_result"
    }
   ],
   "source": [
    "# python reserved words\n",
    "\"\"\"\n",
    "False def if raise\n",
    "None del import return\n",
    "True elif in try\n",
    "and else is while\n",
    "as escept lambda with\n",
    "assert finally nonlocal yield\n",
    "break for not\n",
    "class from or\n",
    "continue global pass\n",
    "\"\"\""
   ]
  }
 ],
 "metadata": {
  "kernelspec": {
   "display_name": "Python 3 (ipykernel)",
   "language": "python",
   "name": "python3"
  },
  "language_info": {
   "codemirror_mode": {
    "name": "ipython",
    "version": 3
   },
   "file_extension": ".py",
   "mimetype": "text/x-python",
   "name": "python",
   "nbconvert_exporter": "python",
   "pygments_lexer": "ipython3",
   "version": "3.9.16"
  },
  "toc": {
   "base_numbering": 1,
   "nav_menu": {},
   "number_sections": true,
   "sideBar": true,
   "skip_h1_title": false,
   "title_cell": "Table of Contents",
   "title_sidebar": "Contents",
   "toc_cell": false,
   "toc_position": {},
   "toc_section_display": true,
   "toc_window_display": false
  },
  "varInspector": {
   "cols": {
    "lenName": 16,
    "lenType": 16,
    "lenVar": 40
   },
   "kernels_config": {
    "python": {
     "delete_cmd_postfix": "",
     "delete_cmd_prefix": "del ",
     "library": "var_list.py",
     "varRefreshCmd": "print(var_dic_list())"
    },
    "r": {
     "delete_cmd_postfix": ") ",
     "delete_cmd_prefix": "rm(",
     "library": "var_list.r",
     "varRefreshCmd": "cat(var_dic_list()) "
    }
   },
   "types_to_exclude": [
    "module",
    "function",
    "builtin_function_or_method",
    "instance",
    "_Feature"
   ],
   "window_display": false
  }
 },
 "nbformat": 4,
 "nbformat_minor": 5
}
