{
 "cells": [
  {
   "cell_type": "markdown",
   "id": "2dac164a",
   "metadata": {},
   "source": [
    "## chapter02-01\n",
    "- 파이썬 완전 기초\n",
    "- Print 사용법\n",
    "- 참고 : https://www.python-course.eu/python3_formatted_output.php\n",
    "\n",
    "**참고 : Escape 코드**\n",
    "- `\\n` : 개행\n",
    "- `\\t` : 탭\n",
    "- `\\\\` : 문자\n",
    "- `\\'` : 문자\n",
    "- `\\\"` : 문자\n",
    "- `\\000` : 널 문자\n",
    "...\n"
   ]
  },
  {
   "cell_type": "markdown",
   "id": "97f83680",
   "metadata": {},
   "source": [
    "### 기본 출력"
   ]
  },
  {
   "cell_type": "code",
   "execution_count": 1,
   "id": "1d2024b3",
   "metadata": {},
   "outputs": [
    {
     "name": "stdout",
     "output_type": "stream",
     "text": [
      "Python Start!\n",
      "Python Start!\n",
      "Python Start!\n",
      "Python Start!\n"
     ]
    }
   ],
   "source": [
    "print('Python Start!')\n",
    "print(\"Python Start!\")\n",
    "print('''Python Start!''')\n",
    "print(\"\"\"Python Start!\"\"\")"
   ]
  },
  {
   "cell_type": "markdown",
   "id": "0ca4c7b2",
   "metadata": {},
   "source": [
    "### separator 옵션"
   ]
  },
  {
   "cell_type": "code",
   "execution_count": 11,
   "id": "62175ada",
   "metadata": {},
   "outputs": [
    {
     "name": "stdout",
     "output_type": "stream",
     "text": [
      "P Y T H O N\n",
      "PYTHON\n",
      "P Y T H O N\n",
      "P,Y,T,H,O,N\n",
      "P, Y, T, H, O, N\n",
      "010 7777 1234\n",
      "01077771234\n",
      "010-7777-1234\n",
      "010 - 7777 - 1234\n",
      "python@google.com\n"
     ]
    }
   ],
   "source": [
    "print('P', 'Y', 'T', 'H', 'O', 'N')\n",
    "print('P', 'Y', 'T', 'H', 'O', 'N', sep='')\n",
    "print('P', 'Y', 'T', 'H', 'O', 'N', sep=' ')\n",
    "print('P', 'Y', 'T', 'H', 'O', 'N', sep=',')\n",
    "print('P', 'Y', 'T', 'H', 'O', 'N', sep=', ')\n",
    "print('010', '7777', '1234')\n",
    "print('010', '7777', '1234', sep='')\n",
    "print('010', '7777', '1234', sep='-')\n",
    "print('010', '7777', '1234', sep=' - ')\n",
    "print('python', 'google.com', sep='@')"
   ]
  },
  {
   "cell_type": "markdown",
   "id": "0d5a6df4",
   "metadata": {},
   "source": [
    "### end 옵션"
   ]
  },
  {
   "cell_type": "code",
   "execution_count": 18,
   "id": "4a66b349",
   "metadata": {},
   "outputs": [
    {
     "name": "stdout",
     "output_type": "stream",
     "text": [
      "Welcome to\n",
      "IT New\n",
      "Web Site\n"
     ]
    }
   ],
   "source": [
    "# 일반적인 출력(개행되어 출력)\n",
    "print('Welcome to')\n",
    "print('IT New')\n",
    "print('Web Site')"
   ]
  },
  {
   "cell_type": "code",
   "execution_count": 19,
   "id": "29cfcf38",
   "metadata": {},
   "outputs": [
    {
     "name": "stdout",
     "output_type": "stream",
     "text": [
      "Welcome to IT New Web Site\n"
     ]
    }
   ],
   "source": [
    "# end 옵션 적용\n",
    "print('Welcome to', end=' ')\n",
    "print('IT New', end=' ')\n",
    "print('Web Site')"
   ]
  },
  {
   "cell_type": "markdown",
   "id": "9a9fa52c",
   "metadata": {},
   "source": [
    "### file 옵션(추가 공부 필요)"
   ]
  },
  {
   "cell_type": "code",
   "execution_count": 20,
   "id": "8f7e6d62",
   "metadata": {},
   "outputs": [
    {
     "name": "stdout",
     "output_type": "stream",
     "text": [
      "Learn Python\n"
     ]
    }
   ],
   "source": [
    "# 파일 객체로 출력하도록 전환\n",
    "import sys\n",
    "print('Learn Python', file=sys.stdout)"
   ]
  },
  {
   "cell_type": "markdown",
   "id": "1e0ad1a0",
   "metadata": {},
   "source": [
    "### format 사용\n",
    "- **d** : 정수(3, 4, 5, ...)\n",
    "- **s** : 문자열('python')\n",
    "- **f** : 실수(3.1445434)"
   ]
  },
  {
   "cell_type": "code",
   "execution_count": 26,
   "id": "f172be3b",
   "metadata": {},
   "outputs": [
    {
     "name": "stdout",
     "output_type": "stream",
     "text": [
      "one two\n",
      "one 2\n",
      "two one\n"
     ]
    }
   ],
   "source": [
    "# {}.format 을 사용할 때, {} 안에 인덱스를 지정해주면, 지정 매핑이 가능하다.\n",
    "print('%s %s' % ('one', 'two'))\n",
    "print('{} {}'.format('one', 2))\n",
    "print('{1} {0}'.format('one', 'two'))"
   ]
  },
  {
   "cell_type": "markdown",
   "id": "fcf6c81e",
   "metadata": {},
   "source": [
    "### %s"
   ]
  },
  {
   "cell_type": "code",
   "execution_count": 37,
   "id": "64baa2b3",
   "metadata": {
    "scrolled": true
   },
   "outputs": [
    {
     "name": "stdout",
     "output_type": "stream",
     "text": [
      "      nice\n",
      "nice      \n"
     ]
    }
   ],
   "source": [
    "# 10 자릿수를 지정한 후, 나머지를 공백으로 채움\n",
    "print('%10s' % ('nice'))\n",
    "\n",
    "# - 기호로 역순으로 공백을 채움\n",
    "print('%-10s' % ('nice'))"
   ]
  },
  {
   "cell_type": "code",
   "execution_count": 43,
   "id": "20308c31",
   "metadata": {},
   "outputs": [
    {
     "name": "stdout",
     "output_type": "stream",
     "text": [
      "nice      \n",
      "nice      \n",
      "   nice   \n",
      "      nice\n"
     ]
    }
   ],
   "source": [
    "# 부등호 생략\n",
    "print('{:10}'.format('nice'))\n",
    "\n",
    "# 왼쪽 정렬\n",
    "print('{:<10}'.format('nice'))\n",
    "\n",
    "# 가운데 정렬\n",
    "print('{:^10}'.format('nice'))\n",
    "\n",
    "# 오른쪽 정렬\n",
    "print('{:>10}'.format('nice'))"
   ]
  },
  {
   "cell_type": "code",
   "execution_count": 47,
   "id": "3fa2dd01",
   "metadata": {},
   "outputs": [
    {
     "name": "stdout",
     "output_type": "stream",
     "text": [
      "______nice\n",
      "$$$$$$nice\n",
      "######nice\n"
     ]
    }
   ],
   "source": [
    "# 공백 대체 문자\n",
    "print('{:_>10}'.format('nice'))\n",
    "print('{:$>10}'.format('nice'))\n",
    "print('{:#>10}'.format('nice'))"
   ]
  },
  {
   "cell_type": "code",
   "execution_count": 52,
   "id": "b71bb05f",
   "metadata": {},
   "outputs": [
    {
     "name": "stdout",
     "output_type": "stream",
     "text": [
      "nice\n",
      "pytho\n",
      "pythonstudy\n",
      "pytho     \n"
     ]
    }
   ],
   "source": [
    "# 공간 5로 출력 제한\n",
    "print('%.5s' % 'nice')\n",
    "print('%.5s' % 'pythonstudy')\n",
    "\n",
    "# .을 붙이지 않으면 전부 출력됨\n",
    "print('%5s' % 'pythonstudy')\n",
    "\n",
    "# 포맷 문자열 5만 출력하고, 나머지 공백 채움\n",
    "print('{:10.5}'.format('pythonstudy'))"
   ]
  },
  {
   "cell_type": "markdown",
   "id": "752ed4a3",
   "metadata": {},
   "source": [
    "### %d"
   ]
  },
  {
   "cell_type": "code",
   "execution_count": 56,
   "id": "7e19575e",
   "metadata": {},
   "outputs": [
    {
     "name": "stdout",
     "output_type": "stream",
     "text": [
      "1 2\n",
      "1 2\n"
     ]
    }
   ],
   "source": [
    "print('%d %d' % (1, 2))\n",
    "print('{} {}'.format(1, 2))"
   ]
  },
  {
   "cell_type": "code",
   "execution_count": 59,
   "id": "8082da03",
   "metadata": {},
   "outputs": [
    {
     "name": "stdout",
     "output_type": "stream",
     "text": [
      "  42\n",
      "4223213\n",
      "  42\n"
     ]
    }
   ],
   "source": [
    "print('%4d' % (42))\n",
    "print('%4d' % (4223213))\n",
    "print('{:4d}'.format(42))"
   ]
  },
  {
   "cell_type": "markdown",
   "id": "945f2e5c",
   "metadata": {},
   "source": [
    "### %f"
   ]
  },
  {
   "cell_type": "code",
   "execution_count": 62,
   "id": "4909ffcd",
   "metadata": {},
   "outputs": [
    {
     "name": "stdout",
     "output_type": "stream",
     "text": [
      "3.143332\n",
      "3.143332323241399884\n",
      "3.143332\n"
     ]
    }
   ],
   "source": [
    "print('%f' % (3.1433323232414))\n",
    "print('%1.18f' % (3.1433323232414))\n",
    "print('{:f}'.format(3.1433323232414))"
   ]
  },
  {
   "cell_type": "code",
   "execution_count": 64,
   "id": "ca0e7f33",
   "metadata": {},
   "outputs": [
    {
     "name": "stdout",
     "output_type": "stream",
     "text": [
      "003.14\n",
      "3.141593\n"
     ]
    }
   ],
   "source": [
    "# 정수부 소수부 \n",
    "print('%06.2f' % (3.141592653589793))\n",
    "print('{:f}'.format(3.141592653589793))"
   ]
  }
 ],
 "metadata": {
  "kernelspec": {
   "display_name": "Python 3 (ipykernel)",
   "language": "python",
   "name": "python3"
  },
  "language_info": {
   "codemirror_mode": {
    "name": "ipython",
    "version": 3
   },
   "file_extension": ".py",
   "mimetype": "text/x-python",
   "name": "python",
   "nbconvert_exporter": "python",
   "pygments_lexer": "ipython3",
   "version": "3.9.16"
  },
  "toc": {
   "base_numbering": 1,
   "nav_menu": {},
   "number_sections": true,
   "sideBar": true,
   "skip_h1_title": false,
   "title_cell": "Table of Contents",
   "title_sidebar": "Contents",
   "toc_cell": false,
   "toc_position": {},
   "toc_section_display": true,
   "toc_window_display": false
  },
  "varInspector": {
   "cols": {
    "lenName": 16,
    "lenType": 16,
    "lenVar": 40
   },
   "kernels_config": {
    "python": {
     "delete_cmd_postfix": "",
     "delete_cmd_prefix": "del ",
     "library": "var_list.py",
     "varRefreshCmd": "print(var_dic_list())"
    },
    "r": {
     "delete_cmd_postfix": ") ",
     "delete_cmd_prefix": "rm(",
     "library": "var_list.r",
     "varRefreshCmd": "cat(var_dic_list()) "
    }
   },
   "types_to_exclude": [
    "module",
    "function",
    "builtin_function_or_method",
    "instance",
    "_Feature"
   ],
   "window_display": false
  }
 },
 "nbformat": 4,
 "nbformat_minor": 5
}
